{
 "cells": [
  {
   "cell_type": "markdown",
   "metadata": {},
   "source": [
    "Para este ejercicio, escribirás una lógica condicional que imprima una advertencia si un asteroide se acerca a la Tierra demasiado rápido. La velocidad del asteroide varía dependiendo de lo cerca que esté del sol, y cualquier velocidad superior a 25 kilómetros por segundo (km/s) merece una advertencia."
   ]
  },
  {
   "cell_type": "markdown",
   "metadata": {},
   "source": [
    "Un asteroide se acerca, y viaja a una velocidad de 49 km/s."
   ]
  },
  {
   "cell_type": "code",
   "execution_count": 2,
   "metadata": {},
   "outputs": [
    {
     "name": "stdout",
     "output_type": "stream",
     "text": [
      "Un asteroide se acerca a la tierra!!!\n"
     ]
    }
   ],
   "source": [
    "velocidad_asteroide= 49\n",
    "if velocidad_asteroide >25:\n",
    "    print(\"Un asteroide se acerca a la tierra!!!\")\n",
    "else:\n",
    "    print(\"todo esta bien\")"
   ]
  },
  {
   "cell_type": "markdown",
   "metadata": {},
   "source": [
    "¡Hay uno que se dirige a la tierra ahora a una velocidad de 19 km/s!\n",
    "\n"
   ]
  },
  {
   "cell_type": "code",
   "execution_count": 6,
   "metadata": {},
   "outputs": [
    {
     "name": "stdout",
     "output_type": "stream",
     "text": [
      "con la velocidad del asteroide no es posible verlo en la atmosfera :(\n"
     ]
    }
   ],
   "source": [
    "velocidad_asteroide= 19\n",
    "\n",
    "if velocidad_asteroide > 20:\n",
    "     print(f\"Se dirige un asteroide a la tierrra con velocidad {velocidad_asteroide}, es posible ver rastros de luz en la atmosfera!!! \")\n",
    "elif velocidad_asteroide ==20:\n",
    "     print(f\"Se dirige un asteroide a la tierrra con velocidad {velocidad_asteroide}, es posible ver rastros de luz en la atmosfera!!! \")\n",
    "else:\n",
    "    print(\"con la velocidad del asteroide no es posible verlo en la atmosfera :(\")"
   ]
  },
  {
   "cell_type": "markdown",
   "metadata": {},
   "source": [
    "En este ejercicio, aprenderás información más matizada sobre cuándo los asteroides representan un peligro para la Tierra, y utilizarás esa información para mejorar nuestro sistema de advertencia. Aquí está la nueva información que necesitas saber:\n",
    "\n",
    "*Los asteroides de menos de 25 metros en su dimensión más grande probablemente se quemarán a medida que entren en la atmósfera de la Tierra.\n",
    "\n",
    "Si una pieza de un asteroide que es más grande que 25 metros pero más pequeña que 1000 metros golpeara la Tierra, causaría mucho daño.\n",
    "También discutimos en el ejercicio anterior que:\n",
    "\n",
    "La velocidad del asteroide varía en función de lo cerca que esté del sol, y cualquier velocidad superior a 25 kilómetros por segundo (km/s) merece una advertencia.\n",
    "Si un asteroide entra en la atmósfera de la Tierra a una velocidad mayor o igual a 20 km/s, a veces produce un rayo de luz que se puede ver desde la Tierra."
   ]
  },
  {
   "cell_type": "code",
   "execution_count": 18,
   "metadata": {},
   "outputs": [
    {
     "name": "stdout",
     "output_type": "stream",
     "text": [
      "un asteroide se dirige a la tierra, pero no representa amenaza\n",
      "Es posible ver rastros de luz en el cielo :)! \n"
     ]
    }
   ],
   "source": [
    "velocidad_asteroide=23\n",
    "tamano_asteroide=25\n",
    "if velocidad_asteroide >25:\n",
    "    print(\"Un asteroide se acerca a la tierra!!!,\")\n",
    "    if tamano_asteroide < 25:\n",
    "        print(\"El asteroide no representa amenaza :)\")\n",
    "    elif tamano_asteroide > 25 and tamano_asteroide < 1000:\n",
    "        print(\"El asteroide es peligroso!!!, busque refugio\")\n",
    "elif velocidad_asteroide >= 20 and tamano_asteroide>=25:\n",
    "        print(\"un asteroide se dirige a la tierra, pero no representa amenaza\\nEs posible ver rastros de luz en el cielo :)! \")\n",
    "else:    \n",
    "    print(\"todo esta bien, siga con su vida!\")"
   ]
  }
 ],
 "metadata": {
  "interpreter": {
   "hash": "adc1fd1a4b8c764c52852e42b10ea6aaf40f3ebe47b5be7cd49ce1732141673f"
  },
  "kernelspec": {
   "display_name": "Python 3.9.7 64-bit",
   "language": "python",
   "name": "python3"
  },
  "language_info": {
   "codemirror_mode": {
    "name": "ipython",
    "version": 3
   },
   "file_extension": ".py",
   "mimetype": "text/x-python",
   "name": "python",
   "nbconvert_exporter": "python",
   "pygments_lexer": "ipython3",
   "version": "3.9.7"
  },
  "orig_nbformat": 4
 },
 "nbformat": 4,
 "nbformat_minor": 2
}
